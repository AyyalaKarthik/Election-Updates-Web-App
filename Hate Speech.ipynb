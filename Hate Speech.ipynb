{
 "cells": [
  {
   "cell_type": "code",
   "execution_count": 12,
   "metadata": {},
   "outputs": [
    {
     "name": "stdout",
     "output_type": "stream",
     "text": [
      "MySQL Database connection successful\n"
     ]
    }
   ],
   "source": [
    "import mysql.connector\n",
    "from mysql.connector import Error\n",
    "\n",
    "\n",
    "def create_server_conection(host_name,user_name,user_password):\n",
    "    connection = None\n",
    "    try:\n",
    "        connection = mysql.connector.connect(\n",
    "            host = host_name,\n",
    "            user = user_name,\n",
    "            passwd = user_password\n",
    "        )\n",
    "        print(\"MySQL Database connection successful\")\n",
    "    except Error as err:\n",
    "        print(f\"Error: '{err}'\")\n",
    "    return connection   \n",
    "#\n",
    "\n",
    "pw = \"Charan@2001\"\n",
    "\n",
    "#\n",
    "db = \"login\"\n",
    "connection = create_server_conection(\"localhost\",\"root\",pw)"
   ]
  },
  {
   "cell_type": "code",
   "execution_count": 13,
   "metadata": {},
   "outputs": [
    {
     "name": "stdout",
     "output_type": "stream",
     "text": [
      "Database create successfully\n"
     ]
    }
   ],
   "source": [
    "def create_database(connection, query):\n",
    "    cursor = connection.cursor()\n",
    "    try:\n",
    "        cursor.execute(query)\n",
    "        print(\"Database create successfully\")\n",
    "    except Error as err:\n",
    "        print(f\"Error: '{err}'\")\n",
    "create_database_query = \"Create database login\"\n",
    "create_database(connection, create_database_query)"
   ]
  },
  {
   "cell_type": "code",
   "execution_count": 14,
   "metadata": {},
   "outputs": [],
   "source": [
    "def create_db_conection(host_name,user_name,user_password, db_name):\n",
    "    connection = None\n",
    "    try:\n",
    "        connection = mysql.connector.connect(\n",
    "            host = host_name,\n",
    "            user = user_name,\n",
    "            passwd = user_password,\n",
    "            database = db_name\n",
    "        )\n",
    "        print(\"MySQL Database connection successful\")\n",
    "    except Error as err:\n",
    "        print(f\"Error: '{err}'\")\n",
    "    return connection"
   ]
  },
  {
   "cell_type": "code",
   "execution_count": 15,
   "metadata": {},
   "outputs": [],
   "source": [
    "def execute_query(connection, query):\n",
    "    cursor = connection.cursor()\n",
    "    try:\n",
    "        cursor.execute(query)\n",
    "        connection.commit()\n",
    "        print(\"Query was succesful\")\n",
    "    except Error as err:\n",
    "        print(f\"Error: '{err}'\")\n"
   ]
  },
  {
   "cell_type": "code",
   "execution_count": 16,
   "metadata": {},
   "outputs": [
    {
     "name": "stdout",
     "output_type": "stream",
     "text": [
      "MySQL Database connection successful\n",
      "Query was succesful\n"
     ]
    }
   ],
   "source": [
    "create_users_table = \"\"\"\n",
    "create table users(\n",
    "id int primary key,\n",
    "name varchar(255) not null,\n",
    "email varchar(255) not null,\n",
    "password varchar(255) not null,\n",
    "unfiltered_comment text not null,\n",
    "filtered_comment text not null);\n",
    "\"\"\"\n",
    "\n",
    "connection = create_db_conection(\"localhost\", \"root\", pw, db)\n",
    "execute_query(connection, create_users_table)\n"
   ]
  },
  {
   "cell_type": "code",
   "execution_count": 21,
   "metadata": {},
   "outputs": [
    {
     "name": "stdout",
     "output_type": "stream",
     "text": [
      "MySQL Database connection successful\n",
      "Query was succesful\n"
     ]
    }
   ],
   "source": [
    "data_users = \"\"\"\n",
    "insert into users values\n",
    "(1, 'Ajitha', 'da540@snu.edu.in', 'abc@123', 'Holy shit',\"\"),\n",
    "(2, 'Karthik', 'ak919@snu.edu.in', 'abc@456', 'GO TO HELL',\"\"),\n",
    "(3, 'Aditi', 'ar698@snu.edu.in', 'abc@789', 'Damn!!!',\"\"),\n",
    "(4, 'Charan', 'sp383@snu.edu.in', 'abc@012', 'Stupid',\"\");\n",
    "\"\"\"\n",
    "connection = create_db_conection(\"localhost\", \"root\", pw, db)\n",
    "execute_query(connection, data_users)"
   ]
  },
  {
   "cell_type": "code",
   "execution_count": 22,
   "metadata": {},
   "outputs": [],
   "source": [
    "def read_query(connection, query):\n",
    "    cursor = connection.cursor()\n",
    "    result = None\n",
    "    try:\n",
    "        cursor.execute(query)\n",
    "        result = cursor.fetchall()\n",
    "        return result\n",
    "    except Error as err:\n",
    "        print(f\"Error: '{err}'\")"
   ]
  },
  {
   "cell_type": "code",
   "execution_count": 23,
   "metadata": {},
   "outputs": [
    {
     "name": "stdout",
     "output_type": "stream",
     "text": [
      "MySQL Database connection successful\n",
      "(1, 'Ajitha', 'da540@snu.edu.in', 'abc@123', 'Holy shit', '')\n",
      "(2, 'Karthik', 'ak919@snu.edu.in', 'abc@456', 'GO TO HELL', '')\n",
      "(3, 'Aditi', 'ar698@snu.edu.in', 'abc@789', 'Damn!!!', '')\n",
      "(4, 'Charan', 'sp383@snu.edu.in', 'abc@012', 'Stupid', '')\n"
     ]
    }
   ],
   "source": [
    "q1 = \"\"\"\n",
    "select * from users;\n",
    "\"\"\"\n",
    "connection = create_db_conection(\"localhost\", \"root\", pw, db)\n",
    "results = read_query(connection, q1)\n",
    "for result in results:\n",
    "    print(result)"
   ]
  },
  {
   "cell_type": "code",
   "execution_count": 31,
   "metadata": {},
   "outputs": [
    {
     "name": "stdout",
     "output_type": "stream",
     "text": [
      "Query was succesful\n",
      "update users set filtered_comment = 'Holy ****' where id=1\n",
      "Holy ****\n",
      "Query was succesful\n",
      "update users set filtered_comment = 'GO TO ****' where id=2\n",
      "GO TO ****\n",
      "Query was succesful\n",
      "update users set filtered_comment = '****!!!' where id=3\n",
      "****!!!\n",
      "Query was succesful\n",
      "update users set filtered_comment = '****' where id=4\n",
      "****\n",
      "Query was succesful\n",
      "update users set filtered_comment = '****!!!' where id=5\n",
      "****!!!\n"
     ]
    }
   ],
   "source": [
    "from better_profanity import profanity\n",
    "\n",
    "\n",
    "\n",
    "for result in results:\n",
    "    \n",
    "    execute_query(connection,\"update users set filtered_comment = '\"+profanity.censor(result[len(result)-2])+\"' where id=\"+str(result[0]))\n",
    "    print(\"update users set filtered_comment = '\"+profanity.censor(result[len(result)-2])+\"' where id=\"+str(result[0]))\n",
    "    print(profanity.censor(result[len(result)-2]))\n",
    "    "
   ]
  },
  {
   "cell_type": "code",
   "execution_count": 32,
   "metadata": {},
   "outputs": [
    {
     "name": "stdout",
     "output_type": "stream",
     "text": [
      "MySQL Database connection successful\n",
      "(1, 'Ajitha', 'da540@snu.edu.in', 'abc@123', 'Holy shit', 'Holy ****')\n",
      "(2, 'Karthik', 'ak919@snu.edu.in', 'abc@456', 'GO TO HELL', 'GO TO ****')\n",
      "(3, 'Aditi', 'ar698@snu.edu.in', 'abc@789', 'Damn!!!', '****!!!')\n",
      "(4, 'Charan', 'sp383@snu.edu.in', 'abc@012', 'Stupid', '****')\n",
      "(5, 'Aasta', 'ad328@snu.edu.in', 'abc@23', 'Bullshit!!!', '****!!!')\n"
     ]
    }
   ],
   "source": [
    "q1 = \"\"\"\n",
    "select * from users;\n",
    "\"\"\"\n",
    "connection = create_db_conection(\"localhost\", \"root\", pw, db)\n",
    "results = read_query(connection, q1)\n",
    "for result in results:\n",
    "    print(result)"
   ]
  },
  {
   "cell_type": "code",
   "execution_count": null,
   "metadata": {},
   "outputs": [],
   "source": []
  }
 ],
 "metadata": {
  "interpreter": {
   "hash": "d236390d293bc265af17ccc0dc7ff27abf5121c90d19397877e6e27edc71e4b6"
  },
  "kernelspec": {
   "display_name": "Python 3 (ipykernel)",
   "language": "python",
   "name": "python3"
  },
  "language_info": {
   "codemirror_mode": {
    "name": "ipython",
    "version": 3
   },
   "file_extension": ".py",
   "mimetype": "text/x-python",
   "name": "python",
   "nbconvert_exporter": "python",
   "pygments_lexer": "ipython3",
   "version": "3.9.9"
  }
 },
 "nbformat": 4,
 "nbformat_minor": 2
}
